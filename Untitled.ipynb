{
 "cells": [
  {
   "cell_type": "code",
   "execution_count": 5,
   "id": "81b5a493-a49c-4653-96f9-4603d05eb9ed",
   "metadata": {},
   "outputs": [
    {
     "ename": "SyntaxError",
     "evalue": "unterminated string literal (detected at line 1) (2434153716.py, line 1)",
     "output_type": "error",
     "traceback": [
      "\u001b[0;36m  Cell \u001b[0;32mIn[5], line 1\u001b[0;36m\u001b[0m\n\u001b[0;31m    dic={'name':\"pranav\",\"pon\":\"cctv\",\"1\":\"pranav1  'name':\"pranav\"}\u001b[0m\n\u001b[0m                                                                  ^\u001b[0m\n\u001b[0;31mSyntaxError\u001b[0m\u001b[0;31m:\u001b[0m unterminated string literal (detected at line 1)\n"
     ]
    }
   ],
   "source": [
    "dic={'name':\"pranav\",\"pon\":\"cctv\",\"1\":\"pranav1  'name':\"pranav\"}\n"
   ]
  },
  {
   "cell_type": "code",
   "execution_count": 6,
   "id": "adf431da-ef27-43cf-817c-a4350d869dd0",
   "metadata": {},
   "outputs": [
    {
     "data": {
      "text/plain": [
       "{'name': 'pranav', 'pon': 'cctv', '1': 'pranav1'}"
      ]
     },
     "execution_count": 6,
     "metadata": {},
     "output_type": "execute_result"
    }
   ],
   "source": [
    "dic"
   ]
  },
  {
   "cell_type": "code",
   "execution_count": 4,
   "id": "a2c37b6e-39e6-4781-a1bf-c11f203f9258",
   "metadata": {},
   "outputs": [
    {
     "data": {
      "text/plain": [
       "{'name': 'pranav', 'pon': 'cctv', '1': 'pranav1'}"
      ]
     },
     "execution_count": 4,
     "metadata": {},
     "output_type": "execute_result"
    }
   ],
   "source": [
    "dic"
   ]
  },
  {
   "cell_type": "code",
   "execution_count": 11,
   "id": "99838fcd-0779-4d04-88ed-5deb4f5f2f61",
   "metadata": {},
   "outputs": [],
   "source": [
    "dic={'name':\"pranav\",\"pon\":\"cctv\",\"1\":\"pranav1\", \"name\":\"pranavzyz\"}"
   ]
  },
  {
   "cell_type": "code",
   "execution_count": 12,
   "id": "cf3c4802-a96a-4c42-9c78-4749e2134463",
   "metadata": {},
   "outputs": [
    {
     "data": {
      "text/plain": [
       "{'name': 'pranavzyz', 'pon': 'cctv', '1': 'pranav1'}"
      ]
     },
     "execution_count": 12,
     "metadata": {},
     "output_type": "execute_result"
    }
   ],
   "source": [
    "dic"
   ]
  },
  {
   "cell_type": "code",
   "execution_count": 13,
   "id": "1d9730f5-4a9e-4a6b-8214-7a50a95ac4ee",
   "metadata": {},
   "outputs": [
    {
     "data": {
      "text/plain": [
       "{'name': 'pranavzyz', 'pon': 'cctv', '1': 'pranav1'}"
      ]
     },
     "execution_count": 13,
     "metadata": {},
     "output_type": "execute_result"
    }
   ],
   "source": [
    "dic"
   ]
  },
  {
   "cell_type": "code",
   "execution_count": 24,
   "id": "244ad3e6-47d9-4a9c-bc59-524b62042b19",
   "metadata": {},
   "outputs": [],
   "source": [
    "dic={'name':\"pranav\",\"pon\":\"cctv\",1:\"pranav1\", \"name\":\"pranavzyz\",2:[1,2,3,4,5]}"
   ]
  },
  {
   "cell_type": "code",
   "execution_count": 27,
   "id": "c97afa7d-ef41-4e8c-ace5-14ab98aae76d",
   "metadata": {},
   "outputs": [
    {
     "data": {
      "text/plain": [
       "[1, 2, 3, 4, 5]"
      ]
     },
     "execution_count": 27,
     "metadata": {},
     "output_type": "execute_result"
    }
   ],
   "source": [
    "dic[2]"
   ]
  },
  {
   "cell_type": "code",
   "execution_count": 28,
   "id": "87a9e4fb-2dc7-4768-8910-1d580a729597",
   "metadata": {},
   "outputs": [
    {
     "data": {
      "text/plain": [
       "dict_keys(['name', 'pon', 1, 2])"
      ]
     },
     "execution_count": 28,
     "metadata": {},
     "output_type": "execute_result"
    }
   ],
   "source": [
    "dic.keys()"
   ]
  },
  {
   "cell_type": "code",
   "execution_count": 29,
   "id": "4f560f35-c834-4fe4-839e-55feae80c89d",
   "metadata": {},
   "outputs": [
    {
     "data": {
      "text/plain": [
       "['name', 'pon', 1, 2]"
      ]
     },
     "execution_count": 29,
     "metadata": {},
     "output_type": "execute_result"
    }
   ],
   "source": [
    "list(dic.keys())"
   ]
  },
  {
   "cell_type": "code",
   "execution_count": 30,
   "id": "45db954d-1723-4670-922d-2102f65fb447",
   "metadata": {},
   "outputs": [
    {
     "ename": "AttributeError",
     "evalue": "'dict' object has no attribute 'key'",
     "output_type": "error",
     "traceback": [
      "\u001b[0;31m---------------------------------------------------------------------------\u001b[0m",
      "\u001b[0;31mAttributeError\u001b[0m                            Traceback (most recent call last)",
      "Cell \u001b[0;32mIn[30], line 1\u001b[0m\n\u001b[0;32m----> 1\u001b[0m \u001b[43mdic\u001b[49m\u001b[38;5;241;43m.\u001b[39;49m\u001b[43mkey\u001b[49m(\u001b[38;5;241m1\u001b[39m)\n",
      "\u001b[0;31mAttributeError\u001b[0m: 'dict' object has no attribute 'key'"
     ]
    }
   ],
   "source": [
    "dic.key(1)"
   ]
  },
  {
   "cell_type": "code",
   "execution_count": 31,
   "id": "4ab1d52f-13fa-436f-acc6-ce8703200814",
   "metadata": {},
   "outputs": [
    {
     "data": {
      "text/plain": [
       "'pranav1'"
      ]
     },
     "execution_count": 31,
     "metadata": {},
     "output_type": "execute_result"
    }
   ],
   "source": [
    "dic.pop(1)"
   ]
  },
  {
   "cell_type": "code",
   "execution_count": 32,
   "id": "f5131a0a-7502-4069-b79b-9b2a145974af",
   "metadata": {},
   "outputs": [
    {
     "data": {
      "text/plain": [
       "{'name': 'pranavzyz', 'pon': 'cctv', 2: [1, 2, 3, 4, 5]}"
      ]
     },
     "execution_count": 32,
     "metadata": {},
     "output_type": "execute_result"
    }
   ],
   "source": [
    "dic"
   ]
  },
  {
   "cell_type": "code",
   "execution_count": null,
   "id": "5476328f-8412-4368-b919-2429c14c7bdb",
   "metadata": {},
   "outputs": [],
   "source": []
  }
 ],
 "metadata": {
  "kernelspec": {
   "display_name": "Python 3 (ipykernel)",
   "language": "python",
   "name": "python3"
  },
  "language_info": {
   "codemirror_mode": {
    "name": "ipython",
    "version": 3
   },
   "file_extension": ".py",
   "mimetype": "text/x-python",
   "name": "python",
   "nbconvert_exporter": "python",
   "pygments_lexer": "ipython3",
   "version": "3.10.8"
  }
 },
 "nbformat": 4,
 "nbformat_minor": 5
}
