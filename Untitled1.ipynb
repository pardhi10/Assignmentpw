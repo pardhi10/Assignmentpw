{
 "cells": [
  {
   "cell_type": "code",
   "execution_count": 3,
   "id": "89cc3b44-2b06-4b32-a232-4d6282f3f918",
   "metadata": {},
   "outputs": [
    {
     "name": "stdin",
     "output_type": "stream",
     "text": [
      "enter your marks 90\n"
     ]
    },
    {
     "name": "stdout",
     "output_type": "stream",
     "text": [
      "your in batch A1\n"
     ]
    }
   ],
   "source": [
    "marks=int(input(\"enter your marks\"))\n",
    "if marks>=80:\n",
    "    print(\"your in batch A1\")\n",
    "elif marks<=80 and marks>=60:\n",
    "    print(\"you are in batch B\")\n",
    "elif marks<=60 and marks >=40:\n",
    "    print (\"your in batch C\")\n",
    "elif marks<=40:\n",
    "    print(\"D\")"
   ]
  },
  {
   "cell_type": "code",
   "execution_count": 4,
   "id": "21cbd4e8-96d1-480b-82ab-eb1464ee86f9",
   "metadata": {},
   "outputs": [
    {
     "data": {
      "text/plain": [
       "int"
      ]
     },
     "execution_count": 4,
     "metadata": {},
     "output_type": "execute_result"
    }
   ],
   "source": [
    "type(marks)"
   ]
  },
  {
   "cell_type": "code",
   "execution_count": 19,
   "id": "fdf1448e-ba43-4b98-92f7-3e81bece812f",
   "metadata": {},
   "outputs": [],
   "source": [
    "list=[1,2,3,4,5,6,7,8,9]\n",
    "l=[]\n",
    "for i in list:\n",
    "    l.insert(i,i+1)  \n",
    "    "
   ]
  },
  {
   "cell_type": "code",
   "execution_count": 20,
   "id": "43bdc4cf-9f3d-4a38-b040-6ad00f30c4fe",
   "metadata": {},
   "outputs": [
    {
     "name": "stdout",
     "output_type": "stream",
     "text": [
      "[2, 3, 4, 5, 6, 7, 8, 9, 10]\n"
     ]
    }
   ],
   "source": [
    "print(l)"
   ]
  },
  {
   "cell_type": "code",
   "execution_count": 35,
   "id": "d451ae54-1618-4a29-9787-4bd901fa1c98",
   "metadata": {},
   "outputs": [
    {
     "name": "stdout",
     "output_type": "stream",
     "text": [
      "[]\n",
      "['PRANAV']\n"
     ]
    }
   ],
   "source": [
    "list=[\"pranav\", \"pardhi\"]\n",
    "l=[]\n",
    "for i in list :\n",
    "    l.append(i.upper())"
   ]
  },
  {
   "cell_type": "code",
   "execution_count": 36,
   "id": "fc8cd11d-4a37-4137-a6ab-862f27471d64",
   "metadata": {},
   "outputs": [
    {
     "name": "stdout",
     "output_type": "stream",
     "text": [
      "['PRANAV', 'PARDHI']\n"
     ]
    }
   ],
   "source": [
    "print(l)"
   ]
  },
  {
   "cell_type": "code",
   "execution_count": 42,
   "id": "272e1eb2-5342-4a48-bcc9-cefb00ea0417",
   "metadata": {},
   "outputs": [
    {
     "name": "stdout",
     "output_type": "stream",
     "text": [
      "[1, 2, 3, 4, 5, 6]\n",
      "['pranav', 'pardhi', 'ansh', 'aarya']\n"
     ]
    }
   ],
   "source": [
    "list=[1,2,3,4,5,6,\"pranav\",\"pardhi\",\"ansh\",\"aarya\"]\n",
    "ch=[]\n",
    "inp=[]\n",
    "for i in list:\n",
    "    if type(i)== int:\n",
    "        inp.append(i)\n",
    "    elif type(i)==str:\n",
    "        ch.append(i)\n",
    "print(inp)\n",
    "print(ch)"
   ]
  },
  {
   "cell_type": "code",
   "execution_count": null,
   "id": "02f583f8-a32e-429f-a89e-b8cb07f3a283",
   "metadata": {},
   "outputs": [],
   "source": []
  }
 ],
 "metadata": {
  "kernelspec": {
   "display_name": "Python 3 (ipykernel)",
   "language": "python",
   "name": "python3"
  },
  "language_info": {
   "codemirror_mode": {
    "name": "ipython",
    "version": 3
   },
   "file_extension": ".py",
   "mimetype": "text/x-python",
   "name": "python",
   "nbconvert_exporter": "python",
   "pygments_lexer": "ipython3",
   "version": "3.10.8"
  }
 },
 "nbformat": 4,
 "nbformat_minor": 5
}
